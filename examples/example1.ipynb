{
 "cells": [
  {
   "cell_type": "code",
   "execution_count": 1,
   "id": "68ca8b30-3719-4af1-9084-03b48d2fc02b",
   "metadata": {},
   "outputs": [],
   "source": [
    "import dpsimpy"
   ]
  },
  {
   "cell_type": "code",
   "execution_count": 2,
   "id": "b862d6d7-f8dd-424d-a971-79d13dde2c76",
   "metadata": {},
   "outputs": [],
   "source": [
    "sim_name = \"ShmemDistributed0\"\n",
    "time_step = 0.001\n",
    "final_time = 10\n",
    "\n",
    "n1 = dpsimpy.dp.SimNode('n1', dpsimpy.PhaseType.Single, [10])\n",
    "n2 = dpsimpy.dp.SimNode('n2', dpsimpy.PhaseType.Single, [5])\n",
    "\n",
    "evs = dpsimpy.dp.ph1.VoltageSource('v_intf', dpsimpy.LogLevel.debug)\n",
    "evs.set_parameters(complex(5, 0))\n",
    "\n",
    "vs1 = dpsimpy.dp.ph1.VoltageSource('vs_1', dpsimpy.LogLevel.debug)\n",
    "vs1.set_parameters(complex(10, 0))\n",
    "\n",
    "r12 = dpsimpy.dp.ph1.Resistor('r_12', dpsimpy.LogLevel.debug)\n",
    "r12.set_parameters(1)\n",
    "\n",
    "evs.connect([dpsimpy.dp.SimNode.gnd, n2])\n",
    "vs1.connect([dpsimpy.dp.SimNode.gnd, n1])\n",
    "r12.connect([n1, n2])\n",
    "\n",
    "sys = dpsimpy.SystemTopology(50, [n1, n2], [evs, vs1, r12])"
   ]
  },
  {
   "cell_type": "code",
   "execution_count": 3,
   "id": "58136e72-0af2-4d88-85ae-6a4e1ff0079a",
   "metadata": {},
   "outputs": [],
   "source": [
    "sim = dpsimpy.RealTimeSimulation(sim_name)\n",
    "sim.set_system(sys)\n",
    "sim.set_time_step(time_step)\n",
    "sim.set_final_time(final_time)"
   ]
  },
  {
   "cell_type": "code",
   "execution_count": 9,
   "id": "dc2e45d3-d338-4161-b352-c5db517645fc",
   "metadata": {},
   "outputs": [
    {
     "name": "stderr",
     "output_type": "stream",
     "text": [
      "[16:35:17.394612 MnaSolverFactory info] creating SparseLUAdapter solver implementation\n",
      "[16:35:17.400234 ShmemDistributed0 info] Scheduling tasks.\n",
      "[16:35:17.401281 ShmemDistributed0 info] Scheduling done.\n",
      "[16:35:17.401286 ShmemDistributed0 info] Opening interfaces.\n",
      "[16:35:17.401287 ShmemDistributed0 info] Start synchronization with remotes on interfaces\n",
      "[16:35:17.401289 ShmemDistributed0 info] Synchronized simulation start with remotes\n",
      "[16:35:17.401518 ShmemDistributed0 info] Starting simulation at 2025-02-05 16:35:18 (delta_T = 0 seconds)\n",
      "[16:35:28.689596 ShmemDistributed0 info] Simulation finished.\n"
     ]
    }
   ],
   "source": [
    "sim.run(1)"
   ]
  },
  {
   "cell_type": "code",
   "execution_count": null,
   "id": "70278299-e732-4e3b-9036-3dc19ddb67e9",
   "metadata": {},
   "outputs": [],
   "source": []
  }
 ],
 "metadata": {
  "kernelspec": {
   "display_name": "Python 3 (ipykernel)",
   "language": "python",
   "name": "python3"
  },
  "language_info": {
   "codemirror_mode": {
    "name": "ipython",
    "version": 3
   },
   "file_extension": ".py",
   "mimetype": "text/x-python",
   "name": "python",
   "nbconvert_exporter": "python",
   "pygments_lexer": "ipython3",
   "version": "3.9.2"
  }
 },
 "nbformat": 4,
 "nbformat_minor": 5
}
