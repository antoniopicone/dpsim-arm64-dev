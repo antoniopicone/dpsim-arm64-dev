{
 "cells": [
  {
   "cell_type": "markdown",
   "metadata": {},
   "source": [
    "# DPsim with UDP Logger\n",
    "\n",
    "This notebook demonstrates using UDP logging for phasor values instead of file logging."
   ]
  },
  {
   "cell_type": "code",
   "execution_count": 1,
   "metadata": {},
   "outputs": [
    {
     "ename": "ModuleNotFoundError",
     "evalue": "No module named 'dpsimpy'",
     "output_type": "error",
     "traceback": [
      "\u001b[0;31m---------------------------------------------------------------------------\u001b[0m",
      "\u001b[0;31mModuleNotFoundError\u001b[0m                       Traceback (most recent call last)",
      "Cell \u001b[0;32mIn[1], line 2\u001b[0m\n\u001b[1;32m      1\u001b[0m \u001b[38;5;28;01mimport\u001b[39;00m\u001b[38;5;250m \u001b[39m\u001b[38;5;21;01mmath\u001b[39;00m\n\u001b[0;32m----> 2\u001b[0m \u001b[38;5;28;01mimport\u001b[39;00m\u001b[38;5;250m \u001b[39m\u001b[38;5;21;01mdpsimpy\u001b[39;00m\n\u001b[1;32m      3\u001b[0m \u001b[38;5;28;01mfrom\u001b[39;00m\u001b[38;5;250m \u001b[39m\u001b[38;5;21;01mVillas\u001b[39;00m\u001b[38;5;21;01m.\u001b[39;00m\u001b[38;5;21;01mtest_with_docker_compose\u001b[39;00m\u001b[38;5;21;01m.\u001b[39;00m\u001b[38;5;21;01mudp_logger\u001b[39;00m\u001b[38;5;250m \u001b[39m\u001b[38;5;28;01mimport\u001b[39;00m DPSimUDPLogger\n\u001b[1;32m      5\u001b[0m \u001b[38;5;66;03m# DPsim DP simulation\u001b[39;00m\n",
      "\u001b[0;31mModuleNotFoundError\u001b[0m: No module named 'dpsimpy'"
     ]
    }
   ],
   "source": [
    "import math\n",
    "import dpsimpy\n",
    "from Villas.test_with_docker_compose.udp_logger import DPSimUDPLogger\n",
    "\n",
    "# DPsim DP simulation\n",
    "name = 'VILLAS_test_udp'\n",
    "\n",
    "# Nodes\n",
    "gnd = dpsimpy.dp.SimNode.gnd\n",
    "n1 = dpsimpy.dp.SimNode('n1')\n",
    "n2 = dpsimpy.dp.SimNode('n2')\n",
    "n3 = dpsimpy.dp.SimNode('n3')\n",
    "\n",
    "# Initialize node voltages\n",
    "n1.set_initial_voltage(complex(0, 0) * math.sqrt(2))\n",
    "n2.set_initial_voltage(complex(0, 0) * math.sqrt(2))\n",
    "\n",
    "# Components\n",
    "vs = dpsimpy.dp.ph1.VoltageSource('vs')\n",
    "vs.set_parameters(V_ref=complex(10000, 0) * math.sqrt(2))\n",
    "\n",
    "r1 = dpsimpy.dp.ph1.Resistor('r1')\n",
    "r1.set_parameters(R=1)\n",
    "\n",
    "l1 = dpsimpy.dp.ph1.Inductor('l1')\n",
    "l1.set_parameters(L=0.02)\n",
    "\n",
    "vload = dpsimpy.dp.ph1.VoltageSource('vload')\n",
    "vload.set_parameters(V_ref=complex(-5000, -1000) * math.sqrt(2))\n",
    "\n",
    "# Connect components\n",
    "vs.connect([gnd, n1])\n",
    "r1.connect([n1, n2])\n",
    "l1.connect([n2, n3])\n",
    "vload.connect([n3, gnd])\n",
    "\n",
    "# Create system topology\n",
    "system = dpsimpy.SystemTopology(50, [gnd, n1, n2, n3], [vs, r1, l1, vload])\n",
    "\n",
    "# Create UDP logger instead of file logger\n",
    "logger = DPSimUDPLogger(name)\n",
    "\n",
    "# Log node voltages\n",
    "for i in range(1, len(system.nodes)):\n",
    "    logger.log_attribute(f'n{i}.v', 'v', system.nodes[i])\n",
    "\n",
    "# Log component interface currents\n",
    "logger.log_attribute('r1.i_intf', 'i_intf', r1)\n",
    "logger.log_attribute('l1.i_intf', 'i_intf', l1)\n",
    "\n",
    "# Setup simulation\n",
    "sim = dpsimpy.Simulation(name)\n",
    "sim.set_domain(dpsimpy.Domain.DP)\n",
    "sim.set_system(system)\n",
    "sim.set_time_step(0.00001)\n",
    "sim.set_final_time(0.1)\n",
    "sim.add_logger(logger)\n",
    "\n",
    "print('Starting simulation...')\n",
    "sim.run()\n",
    "print('Simulation complete')\n",
    "\n",
    "# Close the UDP logger\n",
    "logger.close()"
   ]
  }
 ],
 "metadata": {
  "kernelspec": {
   "display_name": ".venv",
   "language": "python",
   "name": "python3"
  },
  "language_info": {
   "codemirror_mode": {
    "name": "ipython",
    "version": 3
   },
   "file_extension": ".py",
   "mimetype": "text/x-python",
   "name": "python",
   "nbconvert_exporter": "python",
   "pygments_lexer": "ipython3",
   "version": "3.11.2"
  }
 },
 "nbformat": 4,
 "nbformat_minor": 4
}
